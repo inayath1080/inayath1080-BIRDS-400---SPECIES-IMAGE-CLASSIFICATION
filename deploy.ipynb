{
  "cells": [
    {
      "cell_type": "markdown",
      "source": [
        "Reference: https://github.com/toushalipal6991/400-Birds-Species-Classification/tree/main/Prod-Deployment"
      ],
      "metadata": {
        "id": "2SaBdXeR14_f"
      }
    },
    {
      "cell_type": "code",
      "source": [
        "import tensorflow as tf\n",
        "import numpy as np\n",
        "import keras\n",
        "import os\n",
        "from PIL import Image\n",
        "from tensorflow.keras.applications.vgg19 import preprocess_input as vgg19_prep\n",
        "from tensorflow.keras.preprocessing.image import load_img,img_to_array\n",
        "import warnings\n",
        "warnings.filterwarnings('ignore')\n",
        "import pickle\n",
        "from flask import Flask,render_template,request\n",
        "from flask_ngrok import run_with_ngrok"
      ],
      "metadata": {
        "id": "HxJ9Hzvalhbv"
      },
      "execution_count": 4,
      "outputs": []
    },
    {
      "cell_type": "code",
      "source": [
        "cd /content/drive/MyDrive/Colab Notebooks/deploy"
      ],
      "metadata": {
        "colab": {
          "base_uri": "https://localhost:8080/"
        },
        "id": "NlGU8YRtVRt_",
        "outputId": "9378b319-baea-49cd-b63a-54c0019f256d"
      },
      "execution_count": 2,
      "outputs": [
        {
          "output_type": "stream",
          "name": "stdout",
          "text": [
            "/content/drive/MyDrive/Colab Notebooks/deploy\n"
          ]
        }
      ]
    },
    {
      "cell_type": "code",
      "source": [
        "\n",
        "app = Flask(__name__)\n",
        "run_with_ngrok(app)\n",
        "\n",
        "a_file = open(\"/content/drive/MyDrive/Colab Notebooks/deploy/data.pkl\", \"rb\")\n",
        "labels = pickle.load(a_file)\n",
        "\n",
        "# loading our pretrained model\n",
        "\n",
        "model=keras.models.load_model('/content/drive/MyDrive/Colab Notebooks/deploy/bestvgg19.h5')\n",
        "\n",
        "\n",
        "\n",
        "def predict_species(path):\n",
        "  image = tf.keras.utils.load_img(path,target_size=(224,224)) \n",
        "  img = vgg19_prep(img_to_array(image))\n",
        "  img = np.expand_dims(img, axis=0)\n",
        "\n",
        "  prediction = model.predict(img)\n",
        "  sorted_preds = np.sort(prediction)[0][::-1]\n",
        "  top = np.argsort(prediction)[0][::-1][0]\n",
        "  return 'This Bird Belongs To:'+ labels.get(top)\n",
        "\n",
        "\n",
        "\n",
        "@app.route(\"/\")\n",
        "def home():\n",
        "\treturn render_template('index.html')\n",
        " \n",
        "\n",
        "@app.route('/predict',methods=['POST'])\n",
        "def predict():\n",
        "    if request.method == \"POST\":\n",
        "        imagefile=request.files['imagefile']\n",
        "        if imagefile:\n",
        "            image_path = \"./static/\" + imagefile.filename\n",
        "            imagefile.save(image_path)\n",
        "            return render_template('index.html',prediction=predict_species(image_path),imageloc=imagefile.filename)\n",
        "    return render_template('index.html',prediction=predict_species(image_path),imageloc = None)\n",
        "app.run()\n"
      ],
      "metadata": {
        "colab": {
          "base_uri": "https://localhost:8080/"
        },
        "id": "uDZBR8rlbtJS",
        "outputId": "181ba226-1e01-41af-df34-eb9c7b214236"
      },
      "execution_count": 6,
      "outputs": [
        {
          "output_type": "stream",
          "name": "stderr",
          "text": [
            " * Running on http://127.0.0.1:5000/ (Press CTRL+C to quit)\n"
          ]
        },
        {
          "output_type": "stream",
          "name": "stdout",
          "text": [
            " * Running on http://ee2c-34-67-174-162.ngrok.io\n",
            " * Traffic stats available on http://127.0.0.1:4040\n"
          ]
        },
        {
          "output_type": "stream",
          "name": "stderr",
          "text": [
            "127.0.0.1 - - [21/Jun/2022 20:03:19] \"\u001b[37mGET / HTTP/1.1\u001b[0m\" 200 -\n",
            "127.0.0.1 - - [21/Jun/2022 20:03:21] \"\u001b[33mGET /favicon.ico HTTP/1.1\u001b[0m\" 404 -\n",
            "127.0.0.1 - - [21/Jun/2022 20:03:32] \"\u001b[37mPOST /predict HTTP/1.1\u001b[0m\" 200 -\n",
            "127.0.0.1 - - [21/Jun/2022 20:03:32] \"\u001b[37mGET /static/1.jpg HTTP/1.1\u001b[0m\" 200 -\n",
            "127.0.0.1 - - [21/Jun/2022 20:03:43] \"\u001b[37mPOST /predict HTTP/1.1\u001b[0m\" 200 -\n",
            "127.0.0.1 - - [21/Jun/2022 20:03:44] \"\u001b[37mGET /static/7.jpg HTTP/1.1\u001b[0m\" 200 -\n",
            "127.0.0.1 - - [21/Jun/2022 20:03:55] \"\u001b[37mPOST /predict HTTP/1.1\u001b[0m\" 200 -\n",
            "127.0.0.1 - - [21/Jun/2022 20:03:56] \"\u001b[37mGET /static/14.jpg HTTP/1.1\u001b[0m\" 200 -\n"
          ]
        }
      ]
    },
    {
      "cell_type": "code",
      "source": [
        ""
      ],
      "metadata": {
        "id": "x7J9MidDCEUK"
      },
      "execution_count": 3,
      "outputs": []
    }
  ],
  "metadata": {
    "accelerator": "GPU",
    "colab": {
      "name": "deploy.ipynb",
      "provenance": [],
      "collapsed_sections": []
    },
    "gpuClass": "standard",
    "kernelspec": {
      "display_name": "Python 3",
      "name": "python3"
    },
    "language_info": {
      "name": "python"
    }
  },
  "nbformat": 4,
  "nbformat_minor": 0
}